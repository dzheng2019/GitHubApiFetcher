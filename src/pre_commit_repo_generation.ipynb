{
 "cells": [
  {
   "cell_type": "code",
   "execution_count": 1,
   "metadata": {},
   "outputs": [],
   "source": [
    "import requests\n",
    "from requests.adapters import HTTPAdapter, Retry\n",
    "from pprint import pprint\n",
    "import time\n",
    "import os\n",
    "from git import Repo\n",
    "import pandas as pd\n",
    "GITHUB_TOKEN = \"\""
   ]
  },
  {
   "cell_type": "code",
   "execution_count": 2,
   "metadata": {},
   "outputs": [],
   "source": [
    "pre_commit_repo = pd.read_json('pre_commit_repos_300_700.json')"
   ]
  },
  {
   "cell_type": "code",
   "execution_count": 3,
   "metadata": {},
   "outputs": [],
   "source": [
    "def find_all(name, path):\n",
    "    result = []\n",
    "    for root, _, files in os.walk(path):\n",
    "        if name in files:\n",
    "            result.append(os.path.join(root, name))\n",
    "    return result"
   ]
  },
  {
   "cell_type": "code",
   "execution_count": 4,
   "metadata": {},
   "outputs": [],
   "source": [
    "def get_file(repo_row):\n",
    "    attempt = 0\n",
    "    repo_request = None\n",
    "    download_request = None\n",
    "    while (attempt < 10):\n",
    "        try:\n",
    "            repo_request = requests.get(repo_row['url'],auth=('dzheng', GITHUB_TOKEN)).json()\n",
    "            time.sleep(2)\n",
    "            download_request = requests.get(repo_request['download_url'],auth=('dzheng', GITHUB_TOKEN))\n",
    "            return download_request\n",
    "        except: \n",
    "            print(repo_request)\n",
    "            attempt +=1 \n",
    "            time.sleep(5)\n",
    "    return download_request"
   ]
  },
  {
   "cell_type": "code",
   "execution_count": 5,
   "metadata": {},
   "outputs": [
    {
     "name": "stderr",
     "output_type": "stream",
     "text": [
      " 83%|████████▎ | 3380/4089 [4:39:31<110:41:41, 562.06s/it]"
     ]
    },
    {
     "name": "stdout",
     "output_type": "stream",
     "text": [
      "None\n"
     ]
    },
    {
     "name": "stderr",
     "output_type": "stream",
     "text": [
      "100%|██████████| 4089/4089 [5:36:37<00:00,  4.94s/it]     \n"
     ]
    }
   ],
   "source": [
    "\n",
    "from tqdm import tqdm\n",
    "start = 0\n",
    "# print(os.listdir())\n",
    "for i in tqdm(range(start, pre_commit_repo.shape[0])): \n",
    "    repo_row = pre_commit_repo.iloc[i]\n",
    "\n",
    "    hook_folder = 'pre-commit-hooks-300-700'\n",
    "    pre_file = get_file(repo_row)\n",
    "    if pre_file is None:\n",
    "        continue\n",
    "    open(f'{hook_folder}/{i}.yml', 'wb').write(pre_file.content)\n",
    "    time.sleep(2)"
   ]
  },
  {
   "cell_type": "code",
   "execution_count": 7,
   "metadata": {},
   "outputs": [
    {
     "data": {
      "text/plain": [
       "name                                    .pre-commit-config.yaml\n",
       "path                                    .pre-commit-config.yaml\n",
       "sha                    d9aed0a74e60a81a4e76290595c4e5316c0cbb54\n",
       "url           https://api.github.com/repositories/115685903/...\n",
       "git_url       https://api.github.com/repositories/115685903/...\n",
       "html_url      https://github.com/digitaldelirium/macsterrafo...\n",
       "repository    {'id': 115685903, 'node_id': 'MDEwOlJlcG9zaXRv...\n",
       "score                                                         1\n",
       "Name: 595, dtype: object"
      ]
     },
     "execution_count": 7,
     "metadata": {},
     "output_type": "execute_result"
    }
   ],
   "source": []
  },
  {
   "cell_type": "code",
   "execution_count": null,
   "metadata": {},
   "outputs": [],
   "source": []
  }
 ],
 "metadata": {
  "kernelspec": {
   "display_name": "gitfetcher",
   "language": "python",
   "name": "python3"
  },
  "language_info": {
   "codemirror_mode": {
    "name": "ipython",
    "version": 3
   },
   "file_extension": ".py",
   "mimetype": "text/x-python",
   "name": "python",
   "nbconvert_exporter": "python",
   "pygments_lexer": "ipython3",
   "version": "3.10.9"
  },
  "orig_nbformat": 4
 },
 "nbformat": 4,
 "nbformat_minor": 2
}
