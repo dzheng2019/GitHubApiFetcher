{
 "cells": [
  {
   "cell_type": "code",
   "execution_count": 1,
   "metadata": {},
   "outputs": [],
   "source": [
    "import pandas as pd\n",
    "import seaborn as sns\n",
    "sns.set_theme(style='ticks', palette='pastel')"
   ]
  },
  {
   "cell_type": "code",
   "execution_count": 2,
   "metadata": {},
   "outputs": [],
   "source": [
    "df = pd.read_pickle('pre_commit_df.pkl')\n",
    "df['total_hooks'] = df['local_hooks'] + df['remote_hooks']"
   ]
  },
  {
   "cell_type": "code",
   "execution_count": 3,
   "metadata": {},
   "outputs": [
    {
     "data": {
      "text/html": [
       "<div>\n",
       "<style scoped>\n",
       "    .dataframe tbody tr th:only-of-type {\n",
       "        vertical-align: middle;\n",
       "    }\n",
       "\n",
       "    .dataframe tbody tr th {\n",
       "        vertical-align: top;\n",
       "    }\n",
       "\n",
       "    .dataframe thead th {\n",
       "        text-align: right;\n",
       "    }\n",
       "</style>\n",
       "<table border=\"1\" class=\"dataframe\">\n",
       "  <thead>\n",
       "    <tr style=\"text-align: right;\">\n",
       "      <th></th>\n",
       "      <th>default_install_hook_types_count</th>\n",
       "      <th>default_language_version_count</th>\n",
       "      <th>default_stages_count</th>\n",
       "      <th>exclude_count</th>\n",
       "      <th>fail_fast_count</th>\n",
       "      <th>files_count</th>\n",
       "      <th>minimum_pre_commit_version_count</th>\n",
       "      <th>repos_count</th>\n",
       "      <th>local_hooks</th>\n",
       "      <th>local_hooks_raw</th>\n",
       "      <th>remote_repoes</th>\n",
       "      <th>remote_hooks</th>\n",
       "      <th>remote_hooks_raw</th>\n",
       "      <th>is_valid</th>\n",
       "      <th>raw_yaml</th>\n",
       "      <th>total_hooks</th>\n",
       "    </tr>\n",
       "  </thead>\n",
       "  <tbody>\n",
       "    <tr>\n",
       "      <th>0</th>\n",
       "      <td>0.0</td>\n",
       "      <td>0.0</td>\n",
       "      <td>0.0</td>\n",
       "      <td>0.0</td>\n",
       "      <td>0.0</td>\n",
       "      <td>0.0</td>\n",
       "      <td>0.0</td>\n",
       "      <td>1.0</td>\n",
       "      <td>[]</td>\n",
       "      <td>[]</td>\n",
       "      <td>[https://github.com/ambv/black]</td>\n",
       "      <td>[black]</td>\n",
       "      <td>[{'id': 'black', 'language_version': 'python'}]</td>\n",
       "      <td>True</td>\n",
       "      <td>{'repos': [{'repo': 'https://github.com/ambv/b...</td>\n",
       "      <td>[black]</td>\n",
       "    </tr>\n",
       "    <tr>\n",
       "      <th>1</th>\n",
       "      <td>0.0</td>\n",
       "      <td>1.0</td>\n",
       "      <td>0.0</td>\n",
       "      <td>0.0</td>\n",
       "      <td>0.0</td>\n",
       "      <td>0.0</td>\n",
       "      <td>0.0</td>\n",
       "      <td>1.0</td>\n",
       "      <td>[]</td>\n",
       "      <td>[]</td>\n",
       "      <td>[https://github.com/ambv/black]</td>\n",
       "      <td>[black]</td>\n",
       "      <td>[{'id': 'black'}]</td>\n",
       "      <td>True</td>\n",
       "      <td>{'default_language_version': {'python': 'pytho...</td>\n",
       "      <td>[black]</td>\n",
       "    </tr>\n",
       "    <tr>\n",
       "      <th>2</th>\n",
       "      <td>0.0</td>\n",
       "      <td>0.0</td>\n",
       "      <td>0.0</td>\n",
       "      <td>0.0</td>\n",
       "      <td>0.0</td>\n",
       "      <td>0.0</td>\n",
       "      <td>0.0</td>\n",
       "      <td>1.0</td>\n",
       "      <td>[]</td>\n",
       "      <td>[]</td>\n",
       "      <td>[https://github.com/commitizen-tools/commitizen]</td>\n",
       "      <td>[commitizen]</td>\n",
       "      <td>[{'id': 'commitizen', 'stages': ['commit-msg']}]</td>\n",
       "      <td>True</td>\n",
       "      <td>{'repos': [{'hooks': [{'id': 'commitizen', 'st...</td>\n",
       "      <td>[commitizen]</td>\n",
       "    </tr>\n",
       "    <tr>\n",
       "      <th>3</th>\n",
       "      <td>0.0</td>\n",
       "      <td>0.0</td>\n",
       "      <td>0.0</td>\n",
       "      <td>0.0</td>\n",
       "      <td>0.0</td>\n",
       "      <td>0.0</td>\n",
       "      <td>0.0</td>\n",
       "      <td>1.0</td>\n",
       "      <td>[]</td>\n",
       "      <td>[]</td>\n",
       "      <td>[https://github.com/pre-commit/pre-commit-hooks]</td>\n",
       "      <td>[trailing-whitespace]</td>\n",
       "      <td>[{'id': 'trailing-whitespace'}]</td>\n",
       "      <td>True</td>\n",
       "      <td>{'repos': [{'repo': 'https://github.com/pre-co...</td>\n",
       "      <td>[trailing-whitespace]</td>\n",
       "    </tr>\n",
       "    <tr>\n",
       "      <th>4</th>\n",
       "      <td>NaN</td>\n",
       "      <td>NaN</td>\n",
       "      <td>NaN</td>\n",
       "      <td>NaN</td>\n",
       "      <td>NaN</td>\n",
       "      <td>NaN</td>\n",
       "      <td>NaN</td>\n",
       "      <td>NaN</td>\n",
       "      <td>NaN</td>\n",
       "      <td>NaN</td>\n",
       "      <td>NaN</td>\n",
       "      <td>NaN</td>\n",
       "      <td>NaN</td>\n",
       "      <td>False</td>\n",
       "      <td>NaN</td>\n",
       "      <td>NaN</td>\n",
       "    </tr>\n",
       "  </tbody>\n",
       "</table>\n",
       "</div>"
      ],
      "text/plain": [
       "   default_install_hook_types_count  default_language_version_count  \\\n",
       "0                               0.0                             0.0   \n",
       "1                               0.0                             1.0   \n",
       "2                               0.0                             0.0   \n",
       "3                               0.0                             0.0   \n",
       "4                               NaN                             NaN   \n",
       "\n",
       "   default_stages_count  exclude_count  fail_fast_count  files_count  \\\n",
       "0                   0.0            0.0              0.0          0.0   \n",
       "1                   0.0            0.0              0.0          0.0   \n",
       "2                   0.0            0.0              0.0          0.0   \n",
       "3                   0.0            0.0              0.0          0.0   \n",
       "4                   NaN            NaN              NaN          NaN   \n",
       "\n",
       "   minimum_pre_commit_version_count  repos_count local_hooks local_hooks_raw  \\\n",
       "0                               0.0          1.0          []              []   \n",
       "1                               0.0          1.0          []              []   \n",
       "2                               0.0          1.0          []              []   \n",
       "3                               0.0          1.0          []              []   \n",
       "4                               NaN          NaN         NaN             NaN   \n",
       "\n",
       "                                      remote_repoes           remote_hooks  \\\n",
       "0                   [https://github.com/ambv/black]                [black]   \n",
       "1                   [https://github.com/ambv/black]                [black]   \n",
       "2  [https://github.com/commitizen-tools/commitizen]           [commitizen]   \n",
       "3  [https://github.com/pre-commit/pre-commit-hooks]  [trailing-whitespace]   \n",
       "4                                               NaN                    NaN   \n",
       "\n",
       "                                   remote_hooks_raw  is_valid  \\\n",
       "0   [{'id': 'black', 'language_version': 'python'}]      True   \n",
       "1                                 [{'id': 'black'}]      True   \n",
       "2  [{'id': 'commitizen', 'stages': ['commit-msg']}]      True   \n",
       "3                   [{'id': 'trailing-whitespace'}]      True   \n",
       "4                                               NaN     False   \n",
       "\n",
       "                                            raw_yaml            total_hooks  \n",
       "0  {'repos': [{'repo': 'https://github.com/ambv/b...                [black]  \n",
       "1  {'default_language_version': {'python': 'pytho...                [black]  \n",
       "2  {'repos': [{'hooks': [{'id': 'commitizen', 'st...           [commitizen]  \n",
       "3  {'repos': [{'repo': 'https://github.com/pre-co...  [trailing-whitespace]  \n",
       "4                                                NaN                    NaN  "
      ]
     },
     "execution_count": 3,
     "metadata": {},
     "output_type": "execute_result"
    }
   ],
   "source": [
    "df.head()"
   ]
  },
  {
   "attachments": {},
   "cell_type": "markdown",
   "metadata": {},
   "source": [
    "# Goal\n",
    "\n",
    "To investigate trends in pre-commit hooks."
   ]
  },
  {
   "attachments": {},
   "cell_type": "markdown",
   "metadata": {},
   "source": [
    "# Invalid yamls\n",
    "\n",
    "89.05% of the yamls are valid pre-commit files. I will focus the rest of the analysis on only valid yamls."
   ]
  },
  {
   "cell_type": "code",
   "execution_count": 4,
   "metadata": {},
   "outputs": [
    {
     "data": {
      "text/plain": [
       "0.8905664006154438"
      ]
     },
     "execution_count": 4,
     "metadata": {},
     "output_type": "execute_result"
    }
   ],
   "source": [
    "df[df['is_valid']].shape[0]/df.shape[0]"
   ]
  },
  {
   "cell_type": "code",
   "execution_count": 5,
   "metadata": {},
   "outputs": [],
   "source": [
    "df = df[df['is_valid']]"
   ]
  },
  {
   "attachments": {},
   "cell_type": "markdown",
   "metadata": {},
   "source": [
    "# Explore the statisitcs of each top level pre-commit feature\n",
    "Those features being: 'repos', 'default_install_hook_types', 'default_language_version', 'default_stages', 'files', 'exclude', 'fail_fast', 'minimum_pre_commit_version'"
   ]
  },
  {
   "attachments": {},
   "cell_type": "markdown",
   "metadata": {},
   "source": [
    "## default_install_hook_types\n",
    "From https://pre-commit.com/#top_level-default_install_hook_types: a list of --hook-types which will be used by default when running pre-commit install. This defines when hooks can be run, and the default behavior is that it can be run before a commit (pre-commit). However, git hooks also support other types of hooks like prepare-commit-msg, commit-msg, post-commit, post-checkout, pre-rebase. default_stages and stages further define exactly when a hook should run. If you want a hooke to run at a certain stage, youmust install its respect hook type: if I want to run hooks to run in the commit stage, I must install the pre-commit hook type.\n",
    "\n",
    "### Results\n",
    "This appears to be a relatively unused feature of pre-commit hooks. This could partially be due to it being a new feature as well as the default (pre-commit) handling most desired behaviors. Every project atleast use pre-commit. 16 projects choose to more rebust with their hooks. 8 projects used all 9 hooks types support by pre-commit. \n",
    "\n",
    "These projects also have (on avg) more hooks used (9.34 vs 5.29) which makes sense as these projects likely have hooks for each hook type, and more hook types logically leads to more hooks."
   ]
  },
  {
   "cell_type": "code",
   "execution_count": 6,
   "metadata": {},
   "outputs": [
    {
     "data": {
      "text/plain": [
       "count    9261.000000\n",
       "mean        0.009718\n",
       "std         0.272007\n",
       "min         0.000000\n",
       "25%         0.000000\n",
       "50%         0.000000\n",
       "75%         0.000000\n",
       "max         9.000000\n",
       "Name: default_install_hook_types_count, dtype: float64"
      ]
     },
     "execution_count": 6,
     "metadata": {},
     "output_type": "execute_result"
    }
   ],
   "source": [
    "df['default_install_hook_types_count'].describe()"
   ]
  },
  {
   "cell_type": "code",
   "execution_count": 7,
   "metadata": {},
   "outputs": [
    {
     "data": {
      "text/plain": [
       "<Axes: xlabel='default_install_hook_types_count', ylabel='Count'>"
      ]
     },
     "execution_count": 7,
     "metadata": {},
     "output_type": "execute_result"
    },
    {
     "data": {
      "image/png": "[encoded data removed]",
      "text/plain": [
       "<Figure size 640x480 with 1 Axes>"
      ]
     },
     "metadata": {},
     "output_type": "display_data"
    }
   ],
   "source": [
    "sns.histplot(df.default_install_hook_types_count,binrange=(0,9), bins =10)"
   ]
  },
  {
   "cell_type": "code",
   "execution_count": 8,
   "metadata": {},
   "outputs": [
    {
     "name": "stdout",
     "output_type": "stream",
     "text": [
      "0 ['pre-commit', 'commit-msg']\n",
      "Local hooks 0\n",
      "Remote hooks 2\n",
      "Total hooks 2\n",
      "\n",
      "1 ['pre-commit', 'commit-msg']\n",
      "Local hooks 0\n",
      "Remote hooks 5\n",
      "Total hooks 5\n",
      "\n",
      "2 ['pre-commit', 'commit-msg']\n",
      "Local hooks 0\n",
      "Remote hooks 2\n",
      "Total hooks 2\n",
      "\n",
      "3 ['pre-commit', 'pre-merge-commit', 'pre-push', 'prepare-commit-msg', 'commit-msg', 'post-checkout', 'post-commit', 'post-merge', 'post-rewrite']\n",
      "Local hooks 0\n",
      "Remote hooks 13\n",
      "Total hooks 13\n",
      "\n",
      "4 ['pre-commit', 'commit-msg']\n",
      "Local hooks 0\n",
      "Remote hooks 11\n",
      "Total hooks 11\n",
      "\n",
      "5 ['pre-commit', 'pre-merge-commit', 'pre-push', 'prepare-commit-msg', 'commit-msg', 'post-checkout', 'post-commit', 'post-merge', 'post-rewrite']\n",
      "Local hooks 0\n",
      "Remote hooks 13\n",
      "Total hooks 13\n",
      "\n",
      "6 ['pre-commit', 'pre-merge-commit', 'pre-push', 'prepare-commit-msg', 'commit-msg', 'post-checkout', 'post-commit', 'post-merge', 'post-rewrite']\n",
      "Local hooks 0\n",
      "Remote hooks 13\n",
      "Total hooks 13\n",
      "\n",
      "7 ['pre-commit', 'pre-merge-commit', 'pre-push', 'prepare-commit-msg', 'commit-msg', 'post-checkout', 'post-commit', 'post-merge', 'post-rewrite']\n",
      "Local hooks 0\n",
      "Remote hooks 15\n",
      "Total hooks 15\n",
      "\n",
      "8 ['pre-commit', 'pre-merge-commit', 'pre-push', 'prepare-commit-msg', 'commit-msg', 'post-checkout', 'post-commit', 'post-merge', 'post-rewrite']\n",
      "Local hooks 0\n",
      "Remote hooks 13\n",
      "Total hooks 13\n",
      "\n",
      "9 ['pre-commit', 'pre-merge-commit', 'pre-push', 'prepare-commit-msg', 'commit-msg', 'post-checkout', 'post-commit', 'post-merge', 'post-rewrite']\n",
      "Local hooks 0\n",
      "Remote hooks 13\n",
      "Total hooks 13\n",
      "\n",
      "10 ['pre-commit', 'pre-merge-commit', 'pre-push', 'prepare-commit-msg', 'commit-msg', 'post-checkout', 'post-commit', 'post-merge', 'post-rewrite']\n",
      "Local hooks 0\n",
      "Remote hooks 15\n",
      "Total hooks 15\n",
      "\n",
      "11 ['pre-commit', 'post-commit']\n",
      "Local hooks 0\n",
      "Remote hooks 10\n",
      "Total hooks 10\n",
      "\n",
      "12 ['pre-commit', 'pre-merge-commit', 'pre-push', 'prepare-commit-msg', 'commit-msg', 'post-checkout', 'post-commit', 'post-merge', 'post-rewrite']\n",
      "Local hooks 0\n",
      "Remote hooks 13\n",
      "Total hooks 13\n",
      "\n",
      "13 ['pre-commit', 'post-checkout', 'pre-push']\n",
      "Local hooks 3\n",
      "Remote hooks 0\n",
      "Total hooks 3\n",
      "\n",
      "14 ['pre-commit', 'prepare-commit-msg']\n",
      "Local hooks 0\n",
      "Remote hooks 5\n",
      "Total hooks 5\n",
      "\n",
      "15 ['pre-commit', 'prepare-commit-msg']\n",
      "Local hooks 0\n",
      "Remote hooks 5\n",
      "Total hooks 5\n",
      "\n"
     ]
    }
   ],
   "source": [
    "for i, (_, y) in enumerate(df[df['default_install_hook_types_count'].fillna(0) > 1].iterrows()):\n",
    "    print(i, y['raw_yaml']['default_install_hook_types'])\n",
    "    print('Local hooks',len(y['local_hooks']))\n",
    "    print('Remote hooks', len(y['remote_hooks']))\n",
    "    print('Total hooks', len(y['total_hooks']))\n",
    "    print()"
   ]
  },
  {
   "cell_type": "code",
   "execution_count": 9,
   "metadata": {},
   "outputs": [
    {
     "data": {
      "text/plain": [
       "count    16.00000\n",
       "mean      9.43750\n",
       "std       4.84381\n",
       "min       2.00000\n",
       "25%       5.00000\n",
       "50%      12.00000\n",
       "75%      13.00000\n",
       "max      15.00000\n",
       "Name: total_hooks, dtype: float64"
      ]
     },
     "execution_count": 9,
     "metadata": {},
     "output_type": "execute_result"
    }
   ],
   "source": [
    "df[df['default_install_hook_types_count'].fillna(0) > 1]['total_hooks'].apply(len).describe()"
   ]
  },
  {
   "cell_type": "code",
   "execution_count": 10,
   "metadata": {},
   "outputs": [
    {
     "data": {
      "text/plain": [
       "count    9244.000000\n",
       "mean        5.292081\n",
       "std         3.980660\n",
       "min         1.000000\n",
       "25%         2.000000\n",
       "50%         5.000000\n",
       "75%         8.000000\n",
       "max        24.000000\n",
       "Name: total_hooks, dtype: float64"
      ]
     },
     "execution_count": 10,
     "metadata": {},
     "output_type": "execute_result"
    }
   ],
   "source": [
    "df[df['default_install_hook_types_count'].fillna(0) == 0]['total_hooks'].apply(len).describe()"
   ]
  },
  {
   "attachments": {},
   "cell_type": "markdown",
   "metadata": {},
   "source": [
    "## default_language_version\n",
    "\n",
    "From https://pre-commit.com/#new-hooks: a mapping from language to the default language_version that should be used for that language. This will only override individual hooks that do not set language_version\n",
    "\n",
    "\n",
    "### Results\n",
    "This appears to be used almost exclusivly to specifiy the python version. 4.56% (423) of projects us this feature. 3 projects used it to specify the version of something other than python: 2 are 'node', 1 is 'python_env' (which is basically just python)."
   ]
  },
  {
   "cell_type": "code",
   "execution_count": 11,
   "metadata": {},
   "outputs": [
    {
     "data": {
      "text/plain": [
       "count    9261.000000\n",
       "mean        0.045675\n",
       "std         0.208791\n",
       "min         0.000000\n",
       "25%         0.000000\n",
       "50%         0.000000\n",
       "75%         0.000000\n",
       "max         1.000000\n",
       "Name: default_language_version_count, dtype: float64"
      ]
     },
     "execution_count": 11,
     "metadata": {},
     "output_type": "execute_result"
    }
   ],
   "source": [
    "df['default_language_version_count'].describe()"
   ]
  },
  {
   "cell_type": "code",
   "execution_count": 12,
   "metadata": {},
   "outputs": [
    {
     "data": {
      "text/plain": [
       "(423, 16)"
      ]
     },
     "execution_count": 12,
     "metadata": {},
     "output_type": "execute_result"
    }
   ],
   "source": [
    "df[df['default_language_version_count'] != 0].shape"
   ]
  },
  {
   "cell_type": "code",
   "execution_count": 13,
   "metadata": {},
   "outputs": [
    {
     "data": {
      "text/plain": [
       "0.0456754130223518"
      ]
     },
     "execution_count": 13,
     "metadata": {},
     "output_type": "execute_result"
    }
   ],
   "source": [
    "df[df['default_language_version_count'] != 0].shape[0]/df.shape[0]"
   ]
  },
  {
   "cell_type": "code",
   "execution_count": 14,
   "metadata": {},
   "outputs": [
    {
     "name": "stdout",
     "output_type": "stream",
     "text": [
      "{'node': '14.14.0'}\n",
      "{'python_venv': 'python3.8'}\n",
      "{'node': '16.18.0'}\n"
     ]
    }
   ],
   "source": [
    "for y in df[df['default_language_version_count'] != 0]['raw_yaml']:\n",
    "    if 'python' not in y['default_language_version']:\n",
    "        print(y['default_language_version'])"
   ]
  },
  {
   "attachments": {},
   "cell_type": "markdown",
   "metadata": {},
   "source": [
    "## default_stages\n",
    "From https://pre-commit.com/#plugins: a configuration-wide default for the stages property of hooks. This will only override individual hooks that do not set stages. A default value for when each hook should run.  \n",
    "\n",
    "Of note: new in 3.2.0: The values of stages match the hook names. Previously, commit, push, and merge-commit matched pre-commit, pre-push, and pre-merge-commit respectively. \n",
    "\n",
    "### Results\n",
    "Another unsued top level, with only 4.27% (438) projects using it. Of the projects that do use it, they often use it to force hooks to only run during git commit (['commit']).  The 2nd more prevalent use is to have it run on commit and push. Since this defines a default behavior, I believe most projects choose to use staging withing each hook itself."
   ]
  },
  {
   "cell_type": "code",
   "execution_count": 15,
   "metadata": {},
   "outputs": [
    {
     "data": {
      "text/plain": [
       "count    9261.000000\n",
       "mean        0.054854\n",
       "std         0.260862\n",
       "min         0.000000\n",
       "25%         0.000000\n",
       "50%         0.000000\n",
       "75%         0.000000\n",
       "max         3.000000\n",
       "Name: default_stages_count, dtype: float64"
      ]
     },
     "execution_count": 15,
     "metadata": {},
     "output_type": "execute_result"
    }
   ],
   "source": [
    "df['default_stages_count'].describe()"
   ]
  },
  {
   "cell_type": "code",
   "execution_count": 16,
   "metadata": {},
   "outputs": [
    {
     "data": {
      "text/plain": [
       "(438, 16)"
      ]
     },
     "execution_count": 16,
     "metadata": {},
     "output_type": "execute_result"
    }
   ],
   "source": [
    "df[df['default_stages_count'] > 0].shape"
   ]
  },
  {
   "cell_type": "code",
   "execution_count": 17,
   "metadata": {},
   "outputs": [
    {
     "data": {
      "text/plain": [
       "0.04729510851959832"
      ]
     },
     "execution_count": 17,
     "metadata": {},
     "output_type": "execute_result"
    }
   ],
   "source": [
    "df[df['default_stages_count'] > 0].shape[0]/df.shape[0]"
   ]
  },
  {
   "cell_type": "code",
   "execution_count": 18,
   "metadata": {},
   "outputs": [
    {
     "name": "stdout",
     "output_type": "stream",
     "text": [
      "['push']\n",
      "['push']\n",
      "['push']\n",
      "['push']\n",
      "['commit', 'push']\n",
      "['push']\n",
      "['commit', 'push']\n",
      "['commit', 'push']\n",
      "['commit', 'push']\n",
      "['commit', 'push']\n",
      "['commit', 'push']\n",
      "['commit', 'push']\n",
      "['commit', 'manual']\n",
      "['commit', 'push']\n",
      "['commit', 'push']\n",
      "['commit', 'push']\n",
      "['commit', 'push']\n",
      "['commit', 'push']\n",
      "['commit', 'push']\n",
      "['commit', 'push']\n",
      "['commit', 'push']\n",
      "['commit', 'push']\n",
      "['commit', 'push']\n",
      "['push']\n",
      "['commit', 'push']\n",
      "['commit', 'push']\n",
      "['commit', 'push']\n",
      "['commit', 'push']\n",
      "['commit', 'push']\n",
      "['commit', 'push']\n",
      "['commit', 'push']\n",
      "['commit', 'push']\n",
      "['commit', 'push']\n",
      "['commit', 'push']\n",
      "['commit', 'push']\n",
      "['commit', 'push']\n",
      "['push']\n",
      "['commit', 'push']\n",
      "['commit', 'push']\n",
      "['commit', 'push']\n",
      "['commit', 'push']\n",
      "['commit', 'push']\n",
      "['commit', 'push']\n",
      "['commit', 'push']\n",
      "['commit', 'push']\n",
      "['commit', 'push']\n",
      "['commit', 'push']\n",
      "['commit', 'push']\n",
      "['push', 'commit']\n",
      "['commit', 'push']\n",
      "['commit', 'push', 'manual']\n",
      "['commit', 'push']\n",
      "['commit', 'push', 'manual']\n",
      "['commit', 'push']\n",
      "['commit', 'push', 'manual']\n",
      "['commit', 'push']\n",
      "['commit', 'push']\n",
      "['commit', 'push']\n",
      "['commit', 'push', 'manual']\n",
      "['commit', 'push']\n",
      "['push', 'commit']\n",
      "['commit', 'push']\n",
      "['commit', 'push']\n",
      "['commit', 'push']\n",
      "['commit', 'push']\n",
      "['commit', 'push']\n",
      "['commit', 'push']\n",
      "['commit', 'push']\n",
      "['commit', 'push']\n",
      "['commit', 'push']\n",
      "['commit', 'push']\n",
      "['commit', 'push', 'manual']\n"
     ]
    }
   ],
   "source": [
    "for y in df[df['default_stages_count'] != 0]['raw_yaml']:\n",
    "    # print(y['default_stages'])\n",
    "    if ['commit'] != y['default_stages']:\n",
    "        print(y['default_stages'])"
   ]
  },
  {
   "attachments": {},
   "cell_type": "markdown",
   "metadata": {},
   "source": [
    "## files\n",
    "From https://pre-commit.com/#top_level-default_stages: global file include pattern\n",
    "\n",
    "### Results\n",
    "This is pratically never used at 0.4% of projets using it. It seem most projects want hook to be run on everything within the project. There is no real consistent trend in how this include file regex is used. The only commonality I could see was to include .py file."
   ]
  },
  {
   "cell_type": "code",
   "execution_count": 19,
   "metadata": {},
   "outputs": [
    {
     "data": {
      "text/plain": [
       "count    9261.000000\n",
       "mean        0.004103\n",
       "std         0.063928\n",
       "min         0.000000\n",
       "25%         0.000000\n",
       "50%         0.000000\n",
       "75%         0.000000\n",
       "max         1.000000\n",
       "Name: files_count, dtype: float64"
      ]
     },
     "execution_count": 19,
     "metadata": {},
     "output_type": "execute_result"
    }
   ],
   "source": [
    "df['files_count'].describe()"
   ]
  },
  {
   "cell_type": "code",
   "execution_count": 20,
   "metadata": {},
   "outputs": [
    {
     "data": {
      "text/plain": [
       "38"
      ]
     },
     "execution_count": 20,
     "metadata": {},
     "output_type": "execute_result"
    }
   ],
   "source": [
    "df[ df['files_count'] !=0 ].shape[0]"
   ]
  },
  {
   "cell_type": "code",
   "execution_count": 21,
   "metadata": {},
   "outputs": [
    {
     "data": {
      "text/plain": [
       "0.004103228593024511"
      ]
     },
     "execution_count": 21,
     "metadata": {},
     "output_type": "execute_result"
    }
   ],
   "source": [
    "df[ df['files_count'] !=0 ].shape[0]/df.shape[0]"
   ]
  },
  {
   "cell_type": "code",
   "execution_count": 22,
   "metadata": {},
   "outputs": [
    {
     "name": "stdout",
     "output_type": "stream",
     "text": [
      "^service/\n",
      "^.*\\.twb$\n",
      "^service/\n",
      "\\.(json|js|ts|jsx|tsx|astro)\n",
      "^forte/\n",
      "xvec\\/\n",
      ".py\n",
      "speakerbox\n",
      "^(device-types|module-types)/\n",
      ".py\n",
      "^apps/\n",
      "evaluator/.*\n",
      "^backend/\n",
      "src\\/.*|tests\\/.*|\\.projenrc.py\n",
      "Assets/Scripts/.+?\\.cs$\n",
      "^backend/\n",
      "prologin/.*\n",
      ".py\n",
      "src\n",
      "^src/\n",
      "(^src/.*py)|(.*yaml)|(^lib/.*py)\n",
      ".py\n",
      "^src/\n",
      ".py\n",
      "\\.(py|yaml|yml)$\n",
      "src\\/.*|tests\\/.*|\\.projenrc.py\n",
      "lazy_text_classifiers\n",
      "^(jadoch/jadoch/|jadoch/bin/)\n",
      "^src/\n",
      ".py\n",
      "(.+\\.py|bin\\/.+)\n",
      "/\n",
      "aicsimageio\n",
      ".py\n",
      "^src/\n",
      "screenpy_requests/.*\n",
      "(?x)(\n",
      "    ^pyaedt/|\n",
      "    _unittest/\n",
      ")\n",
      "\n",
      "geopandas\\/\n"
     ]
    }
   ],
   "source": [
    "for y in df[df['files_count'] != 0]['raw_yaml']:\n",
    "    print(y['files'])"
   ]
  },
  {
   "attachments": {},
   "cell_type": "markdown",
   "metadata": {},
   "source": [
    "## exclude\n",
    "From https://pre-commit.com/#top_level-files: global file exclude pattern\n",
    "\n",
    "### Results\n",
    "Excluding files is a much more common thing for projects to do than including files with 7.94% (736) of projects using it. There is some similar excluse patterns across projects, with the top 10 most common exclude patterns representing almost half of all projects using the exclude feature. Common behaviors include excluding the .git folder, docs folder, migration folders, node_modules, and .tox file.\n",
    "\n",
    "An interesting exclusion value is 'doc/en/example/py2py3/test_py2.py', I can't see to find any reason why this is prevalent besides the potential that many project take other projects pre-commit config files. https://github.com/pytest-dev/execnet uses it in its pre-commit file which may be the source? Nonetheless interesting."
   ]
  },
  {
   "cell_type": "code",
   "execution_count": 23,
   "metadata": {},
   "outputs": [
    {
     "data": {
      "text/plain": [
       "count    9261.000000\n",
       "mean        0.079473\n",
       "std         0.270490\n",
       "min         0.000000\n",
       "25%         0.000000\n",
       "50%         0.000000\n",
       "75%         0.000000\n",
       "max         1.000000\n",
       "Name: exclude_count, dtype: float64"
      ]
     },
     "execution_count": 23,
     "metadata": {},
     "output_type": "execute_result"
    }
   ],
   "source": [
    "df['exclude_count'].describe()"
   ]
  },
  {
   "cell_type": "code",
   "execution_count": 24,
   "metadata": {},
   "outputs": [
    {
     "data": {
      "text/plain": [
       "736"
      ]
     },
     "execution_count": 24,
     "metadata": {},
     "output_type": "execute_result"
    }
   ],
   "source": [
    "df[df['exclude_count'] > 0].shape[0]"
   ]
  },
  {
   "cell_type": "code",
   "execution_count": 25,
   "metadata": {},
   "outputs": [
    {
     "data": {
      "text/plain": [
       "0.0794730590648958"
      ]
     },
     "execution_count": 25,
     "metadata": {},
     "output_type": "execute_result"
    }
   ],
   "source": [
    "df[df['exclude_count'] > 0].shape[0]/df.shape[0]"
   ]
  },
  {
   "cell_type": "code",
   "execution_count": 26,
   "metadata": {},
   "outputs": [],
   "source": [
    "excludes = []\n",
    "for y in df[df['exclude_count'] != 0]['raw_yaml']:\n",
    "    if '^$' != y['exclude']:\n",
    "        excludes.append(y['exclude'])"
   ]
  },
  {
   "cell_type": "code",
   "execution_count": 27,
   "metadata": {},
   "outputs": [
    {
     "data": {
      "text/plain": [
       "360"
      ]
     },
     "execution_count": 27,
     "metadata": {},
     "output_type": "execute_result"
    }
   ],
   "source": [
    "pd.Series(excludes).value_counts().head(10).sum()"
   ]
  },
  {
   "cell_type": "code",
   "execution_count": 28,
   "metadata": {},
   "outputs": [
    {
     "data": {
      "text/plain": [
       "0.4891304347826087"
      ]
     },
     "execution_count": 28,
     "metadata": {},
     "output_type": "execute_result"
    }
   ],
   "source": [
    "pd.Series(excludes).value_counts().head(10).sum()/df[df['exclude_count'] > 0].shape[0]"
   ]
  },
  {
   "cell_type": "code",
   "execution_count": 29,
   "metadata": {},
   "outputs": [
    {
     "data": {
      "text/plain": [
       "^docs/|/migrations/                              103\n",
       "docs|node_modules|migrations|.git|.tox            99\n",
       "doc/en/example/py2py3/test_py2.py                 30\n",
       "node_modules|.git                                 28\n",
       "^(\\.tox|ci/templates|\\.bumpversion\\.cfg)(/|$)     27\n",
       "^docs/conf.py                                     21\n",
       ".bumpversion.cfg                                  19\n",
       "build|stubs                                       14\n",
       ".git|.tox                                         11\n",
       ".git                                               8\n",
       "dtype: int64"
      ]
     },
     "execution_count": 29,
     "metadata": {},
     "output_type": "execute_result"
    }
   ],
   "source": [
    "pd.Series(excludes).value_counts().head(10)"
   ]
  },
  {
   "cell_type": "code",
   "execution_count": 30,
   "metadata": {},
   "outputs": [
    {
     "data": {
      "text/plain": [
       "<Axes: xlabel='freq', ylabel='cat'>"
      ]
     },
     "execution_count": 30,
     "metadata": {},
     "output_type": "execute_result"
    },
    {
     "data": {
      "image/png": "[encoded data removed]",
      "text/plain": [
       "<Figure size 640x480 with 1 Axes>"
      ]
     },
     "metadata": {},
     "output_type": "display_data"
    }
   ],
   "source": [
    "tmp_df = pd.Series(excludes).value_counts().head(20)\n",
    "tmp_df = tmp_df.reset_index()\n",
    "tmp_df.columns = ['cat', 'freq']\n",
    "sns.barplot(y = 'cat', x = 'freq', data = tmp_df, orient = 'h')"
   ]
  },
  {
   "cell_type": "code",
   "execution_count": 31,
   "metadata": {},
   "outputs": [
    {
     "data": {
      "text/plain": [
       "<Axes: ylabel='Count'>"
      ]
     },
     "execution_count": 31,
     "metadata": {},
     "output_type": "execute_result"
    },
    {
     "data": {
      "image/png": "[encoded data removed]",
      "text/plain": [
       "<Figure size 640x480 with 1 Axes>"
      ]
     },
     "metadata": {},
     "output_type": "display_data"
    }
   ],
   "source": [
    "sns.histplot(pd.Series(excludes).value_counts().values)"
   ]
  },
  {
   "attachments": {},
   "cell_type": "markdown",
   "metadata": {},
   "source": [
    "## fail_fast\n",
    "From https://pre-commit.com/#top_level-files: set to true to have pre-commit stop running hooks after the first failure. Default is false.\n",
    "\n",
    "### Results\n",
    "4.37% (405) of projects define this top level feature. However, only 2.51% (233) define unique behavior (setting it to True). Failing fast does not appear to be correlated with more hooks."
   ]
  },
  {
   "cell_type": "code",
   "execution_count": 32,
   "metadata": {},
   "outputs": [
    {
     "data": {
      "text/plain": [
       "405"
      ]
     },
     "execution_count": 32,
     "metadata": {},
     "output_type": "execute_result"
    }
   ],
   "source": [
    "df[df['fail_fast_count'] > 0].shape[0]"
   ]
  },
  {
   "cell_type": "code",
   "execution_count": 33,
   "metadata": {},
   "outputs": [
    {
     "data": {
      "text/plain": [
       "0.043731778425655975"
      ]
     },
     "execution_count": 33,
     "metadata": {},
     "output_type": "execute_result"
    }
   ],
   "source": [
    "df[df['fail_fast_count'] > 0].shape[0]/df.shape[0]"
   ]
  },
  {
   "cell_type": "code",
   "execution_count": 34,
   "metadata": {},
   "outputs": [
    {
     "data": {
      "text/plain": [
       "233"
      ]
     },
     "execution_count": 34,
     "metadata": {},
     "output_type": "execute_result"
    }
   ],
   "source": [
    "c = 0\n",
    "for y in df[df['fail_fast_count'] > 0]['raw_yaml']:\n",
    "    if y['fail_fast']:\n",
    "        c += 1;\n",
    "c"
   ]
  },
  {
   "cell_type": "code",
   "execution_count": 35,
   "metadata": {},
   "outputs": [
    {
     "data": {
      "text/plain": [
       "0.02515927005722924"
      ]
     },
     "execution_count": 35,
     "metadata": {},
     "output_type": "execute_result"
    }
   ],
   "source": [
    "c/df.shape[0]"
   ]
  },
  {
   "cell_type": "code",
   "execution_count": 36,
   "metadata": {},
   "outputs": [],
   "source": [
    "true_indices = []\n",
    "for i,y in df[df['fail_fast_count'] > 0].iterrows():\n",
    "    if y['raw_yaml']['fail_fast']:\n",
    "        true_indices.append(i)"
   ]
  },
  {
   "cell_type": "code",
   "execution_count": 37,
   "metadata": {},
   "outputs": [
    {
     "data": {
      "text/plain": [
       "count    233.000000\n",
       "mean       5.888412\n",
       "std        3.884706\n",
       "min        1.000000\n",
       "25%        3.000000\n",
       "50%        6.000000\n",
       "75%        7.000000\n",
       "max       24.000000\n",
       "Name: total_hooks, dtype: float64"
      ]
     },
     "execution_count": 37,
     "metadata": {},
     "output_type": "execute_result"
    }
   ],
   "source": [
    "df.loc[true_indices,:]['total_hooks'].apply(len).describe()"
   ]
  },
  {
   "cell_type": "code",
   "execution_count": 38,
   "metadata": {},
   "outputs": [
    {
     "data": {
      "text/plain": [
       "count    9261.000000\n",
       "mean        5.299212\n",
       "std         3.985501\n",
       "min         1.000000\n",
       "25%         2.000000\n",
       "50%         5.000000\n",
       "75%         8.000000\n",
       "max        24.000000\n",
       "Name: total_hooks, dtype: float64"
      ]
     },
     "execution_count": 38,
     "metadata": {},
     "output_type": "execute_result"
    }
   ],
   "source": [
    "df['total_hooks'].apply(len).describe()"
   ]
  },
  {
   "cell_type": "code",
   "execution_count": null,
   "metadata": {},
   "outputs": [],
   "source": []
  }
 ],
 "metadata": {
  "kernelspec": {
   "display_name": "gitfetcher",
   "language": "python",
   "name": "python3"
  },
  "language_info": {
   "codemirror_mode": {
    "name": "ipython",
    "version": 3
   },
   "file_extension": ".py",
   "mimetype": "text/x-python",
   "name": "python",
   "nbconvert_exporter": "python",
   "pygments_lexer": "ipython3",
   "version": "3.10.9"
  },
  "orig_nbformat": 4
 },
 "nbformat": 4,
 "nbformat_minor": 2
}
