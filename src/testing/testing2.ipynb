{
 "cells": [
  {
   "cell_type": "code",
   "execution_count": 5,
   "metadata": {},
   "outputs": [],
   "source": [
    "from github import Github\n",
    "\n",
    "# Replace with your GitHub personal access token\n",
    "access_token = ''\n",
    "\n",
    "# Create a GitHub API instance\n",
    "g = Github(access_token, per_page=10)\n",
    "\n",
    "# Search for repositories with a .pre-commit-config.yaml file\n",
    "query = 'filename:.pre-commit-config.yaml'\n",
    "result = g.search_code(query=query)\n",
    "\n",
    "# # Print the URLs of the matching repositories\n",
    "# for code in result:\n",
    "#     repo_url = code.repository.html_url\n",
    "#     print(repo_url)"
   ]
  },
  {
   "cell_type": "code",
   "execution_count": 9,
   "metadata": {},
   "outputs": [
    {
     "data": {
      "text/plain": [
       "AuthenticatedUser(login=None)"
      ]
     },
     "execution_count": 9,
     "metadata": {},
     "output_type": "execute_result"
    }
   ],
   "source": [
    "g.get_user()"
   ]
  },
  {
   "cell_type": "code",
   "execution_count": 10,
   "metadata": {},
   "outputs": [
    {
     "name": "stdout",
     "output_type": "stream",
     "text": [
      "ImageCaptionGen\n"
     ]
    },
    {
     "ename": "UnknownObjectException",
     "evalue": "404 {\"message\": \"Not Found\", \"documentation_url\": \"https://docs.github.com/rest/repos/repos#update-a-repository\"}",
     "output_type": "error",
     "traceback": [
      "\u001b[0;31m---------------------------------------------------------------------------\u001b[0m",
      "\u001b[0;31mUnknownObjectException\u001b[0m                    Traceback (most recent call last)",
      "Cell \u001b[0;32mIn[10], line 3\u001b[0m\n\u001b[1;32m      1\u001b[0m \u001b[39mfor\u001b[39;00m repo \u001b[39min\u001b[39;00m g\u001b[39m.\u001b[39mget_user()\u001b[39m.\u001b[39mget_repos():\n\u001b[1;32m      2\u001b[0m     \u001b[39mprint\u001b[39m(repo\u001b[39m.\u001b[39mname)\n\u001b[0;32m----> 3\u001b[0m     repo\u001b[39m.\u001b[39;49medit(has_wiki\u001b[39m=\u001b[39;49m\u001b[39mFalse\u001b[39;49;00m)\n\u001b[1;32m      4\u001b[0m     \u001b[39m# to see all the available attributes and methods\u001b[39;00m\n\u001b[1;32m      5\u001b[0m     \u001b[39mprint\u001b[39m(\u001b[39mdir\u001b[39m(repo))\n",
      "File \u001b[0;32m~/anaconda3/envs/gitfetcher/lib/python3.10/site-packages/github/Repository.py:1664\u001b[0m, in \u001b[0;36mRepository.edit\u001b[0;34m(self, name, description, homepage, private, has_issues, has_projects, has_wiki, has_downloads, default_branch, allow_forking, allow_squash_merge, allow_merge_commit, allow_rebase_merge, delete_branch_on_merge, archived)\u001b[0m\n\u001b[1;32m   1662\u001b[0m \u001b[39mif\u001b[39;00m archived \u001b[39mis\u001b[39;00m \u001b[39mnot\u001b[39;00m github\u001b[39m.\u001b[39mGithubObject\u001b[39m.\u001b[39mNotSet:\n\u001b[1;32m   1663\u001b[0m     post_parameters[\u001b[39m\"\u001b[39m\u001b[39marchived\u001b[39m\u001b[39m\"\u001b[39m] \u001b[39m=\u001b[39m archived\n\u001b[0;32m-> 1664\u001b[0m headers, data \u001b[39m=\u001b[39m \u001b[39mself\u001b[39;49m\u001b[39m.\u001b[39;49m_requester\u001b[39m.\u001b[39;49mrequestJsonAndCheck(\n\u001b[1;32m   1665\u001b[0m     \u001b[39m\"\u001b[39;49m\u001b[39mPATCH\u001b[39;49m\u001b[39m\"\u001b[39;49m, \u001b[39mself\u001b[39;49m\u001b[39m.\u001b[39;49murl, \u001b[39minput\u001b[39;49m\u001b[39m=\u001b[39;49mpost_parameters\n\u001b[1;32m   1666\u001b[0m )\n\u001b[1;32m   1667\u001b[0m \u001b[39mself\u001b[39m\u001b[39m.\u001b[39m_useAttributes(data)\n",
      "File \u001b[0;32m~/anaconda3/envs/gitfetcher/lib/python3.10/site-packages/github/Requester.py:400\u001b[0m, in \u001b[0;36mRequester.requestJsonAndCheck\u001b[0;34m(self, verb, url, parameters, headers, input)\u001b[0m\n\u001b[1;32m    399\u001b[0m \u001b[39mdef\u001b[39;00m \u001b[39mrequestJsonAndCheck\u001b[39m(\u001b[39mself\u001b[39m, verb, url, parameters\u001b[39m=\u001b[39m\u001b[39mNone\u001b[39;00m, headers\u001b[39m=\u001b[39m\u001b[39mNone\u001b[39;00m, \u001b[39minput\u001b[39m\u001b[39m=\u001b[39m\u001b[39mNone\u001b[39;00m):\n\u001b[0;32m--> 400\u001b[0m     \u001b[39mreturn\u001b[39;00m \u001b[39mself\u001b[39;49m\u001b[39m.\u001b[39;49m__check(\n\u001b[1;32m    401\u001b[0m         \u001b[39m*\u001b[39;49m\u001b[39mself\u001b[39;49m\u001b[39m.\u001b[39;49mrequestJson(\n\u001b[1;32m    402\u001b[0m             verb, url, parameters, headers, \u001b[39minput\u001b[39;49m, \u001b[39mself\u001b[39;49m\u001b[39m.\u001b[39;49m__customConnection(url)\n\u001b[1;32m    403\u001b[0m         )\n\u001b[1;32m    404\u001b[0m     )\n",
      "File \u001b[0;32m~/anaconda3/envs/gitfetcher/lib/python3.10/site-packages/github/Requester.py:425\u001b[0m, in \u001b[0;36mRequester.__check\u001b[0;34m(self, status, responseHeaders, output)\u001b[0m\n\u001b[1;32m    423\u001b[0m output \u001b[39m=\u001b[39m \u001b[39mself\u001b[39m\u001b[39m.\u001b[39m__structuredFromJson(output)\n\u001b[1;32m    424\u001b[0m \u001b[39mif\u001b[39;00m status \u001b[39m>\u001b[39m\u001b[39m=\u001b[39m \u001b[39m400\u001b[39m:\n\u001b[0;32m--> 425\u001b[0m     \u001b[39mraise\u001b[39;00m \u001b[39mself\u001b[39m\u001b[39m.\u001b[39m__createException(status, responseHeaders, output)\n\u001b[1;32m    426\u001b[0m \u001b[39mreturn\u001b[39;00m responseHeaders, output\n",
      "\u001b[0;31mUnknownObjectException\u001b[0m: 404 {\"message\": \"Not Found\", \"documentation_url\": \"https://docs.github.com/rest/repos/repos#update-a-repository\"}"
     ]
    }
   ],
   "source": [
    "for repo in g.get_user().get_repos():\n",
    "    print(repo.name)\n",
    "    repo.edit(has_wiki=False)\n",
    "    # to see all the available attributes and methods\n",
    "    print(dir(repo))"
   ]
  },
  {
   "cell_type": "code",
   "execution_count": null,
   "metadata": {},
   "outputs": [],
   "source": []
  }
 ],
 "metadata": {
  "kernelspec": {
   "display_name": "gitfetcher",
   "language": "python",
   "name": "python3"
  },
  "language_info": {
   "codemirror_mode": {
    "name": "ipython",
    "version": 3
   },
   "file_extension": ".py",
   "mimetype": "text/x-python",
   "name": "python",
   "nbconvert_exporter": "python",
   "pygments_lexer": "ipython3",
   "version": "3.10.9"
  },
  "orig_nbformat": 4
 },
 "nbformat": 4,
 "nbformat_minor": 2
}
