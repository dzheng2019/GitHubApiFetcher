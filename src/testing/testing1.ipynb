{
 "cells": [
  {
   "cell_type": "code",
   "execution_count": 8,
   "metadata": {},
   "outputs": [],
   "source": [
    "import requests\n",
    "from pprint import pprint\n",
    "import time\n",
    "GITHUB_TOKEN = \"\""
   ]
  },
  {
   "cell_type": "code",
   "execution_count": 9,
   "metadata": {},
   "outputs": [],
   "source": [
    "url = 'https://api.github.com/search/code?q=filename:pre-commit-config.yaml language:yaml size:1000..1005 &per_page=5&page='\n"
   ]
  },
  {
   "cell_type": "code",
   "execution_count": 10,
   "metadata": {},
   "outputs": [
    {
     "name": "stdout",
     "output_type": "stream",
     "text": [
      "1679842774.9452646\n",
      "Status code: 1 200\n",
      "X-RateLimit-Limit : 30\n",
      "X-RateLimit-Remaining : 29\n",
      "X-RateLimit-Reset : 1679842835\n",
      "X-RateLimit-Used : 1\n",
      "X-RateLimit-Resource : search\n",
      "275\n",
      "0\n"
     ]
    }
   ],
   "source": [
    "print(time.time())\n",
    "response = requests.get(url , auth=('dzheng', GITHUB_TOKEN))\n",
    "print(\"Status code: 1\", response.status_code)\n",
    "for a, b in response.headers.items():\n",
    "    if 'X-R' in a:\n",
    "        print(a, \":\", b)\n",
    "response_dict = response.json()\n",
    "try:\n",
    "    print(response_dict['total_count'])\n",
    "    print(len(response_dict['items']))\n",
    "except:\n",
    "    pprint(response_dict)"
   ]
  },
  {
   "cell_type": "code",
   "execution_count": 11,
   "metadata": {},
   "outputs": [
    {
     "data": {
      "text/plain": [
       "{'total_count': 275, 'incomplete_results': False, 'items': []}"
      ]
     },
     "execution_count": 11,
     "metadata": {},
     "output_type": "execute_result"
    }
   ],
   "source": [
    "response_dict"
   ]
  },
  {
   "cell_type": "code",
   "execution_count": 4,
   "metadata": {},
   "outputs": [
    {
     "name": "stdout",
     "output_type": "stream",
     "text": [
      "1679237336.7179139\n",
      "Status code: 1 200\n"
     ]
    }
   ],
   "source": [
    "print(time.time())\n",
    "response = requests.get(url , auth=('dzheng', GITHUB_TOKEN))\n",
    "print(\"Status code: 1\", response.status_code)"
   ]
  },
  {
   "cell_type": "code",
   "execution_count": 30,
   "metadata": {},
   "outputs": [
    {
     "name": "stdout",
     "output_type": "stream",
     "text": [
      "X-RateLimit-Limit : 30\n",
      "X-RateLimit-Remaining : 25\n",
      "X-RateLimit-Reset : 1679003015\n",
      "X-RateLimit-Used : 5\n",
      "X-RateLimit-Resource : search\n"
     ]
    }
   ],
   "source": [
    "for a, b in response.headers.items():\n",
    "    if 'X-R' in a:\n",
    "        print(a, \":\", b)"
   ]
  },
  {
   "cell_type": "code",
   "execution_count": 25,
   "metadata": {},
   "outputs": [
    {
     "ename": "KeyError",
     "evalue": "'total_count'",
     "output_type": "error",
     "traceback": [
      "\u001b[0;31m---------------------------------------------------------------------------\u001b[0m",
      "\u001b[0;31mKeyError\u001b[0m                                  Traceback (most recent call last)",
      "Cell \u001b[0;32mIn[25], line 2\u001b[0m\n\u001b[1;32m      1\u001b[0m response_dict \u001b[39m=\u001b[39m response\u001b[39m.\u001b[39mjson()\n\u001b[0;32m----> 2\u001b[0m \u001b[39mprint\u001b[39m(response_dict[\u001b[39m'\u001b[39;49m\u001b[39mtotal_count\u001b[39;49m\u001b[39m'\u001b[39;49m])\n\u001b[1;32m      3\u001b[0m \u001b[39mprint\u001b[39m(\u001b[39mlen\u001b[39m(response_dict[\u001b[39m'\u001b[39m\u001b[39mitems\u001b[39m\u001b[39m'\u001b[39m]))\n",
      "\u001b[0;31mKeyError\u001b[0m: 'total_count'"
     ]
    }
   ],
   "source": [
    "response_dict = response.json()\n",
    "print(response_dict['total_count'])\n",
    "print(len(response_dict['items']))"
   ]
  },
  {
   "cell_type": "code",
   "execution_count": 26,
   "metadata": {},
   "outputs": [
    {
     "name": "stdout",
     "output_type": "stream",
     "text": [
      "2023-03-16 17:43:17.110132\n",
      "Start time 1679002997.1103117\n",
      "Status code: 1 403\n",
      "\n",
      "\n",
      "1679003015\n",
      "\n",
      "\n"
     ]
    },
    {
     "ename": "KeyError",
     "evalue": "'total_count'",
     "output_type": "error",
     "traceback": [
      "\u001b[0;31m---------------------------------------------------------------------------\u001b[0m",
      "\u001b[0;31mKeyError\u001b[0m                                  Traceback (most recent call last)",
      "Cell \u001b[0;32mIn[26], line 14\u001b[0m\n\u001b[1;32m     12\u001b[0m \u001b[39mprint\u001b[39m(\u001b[39m'\u001b[39m\u001b[39m\\n\u001b[39;00m\u001b[39m'\u001b[39m)\n\u001b[1;32m     13\u001b[0m response_dict \u001b[39m=\u001b[39m response\u001b[39m.\u001b[39mjson()\n\u001b[0;32m---> 14\u001b[0m \u001b[39mprint\u001b[39m(response_dict[\u001b[39m'\u001b[39;49m\u001b[39mtotal_count\u001b[39;49m\u001b[39m'\u001b[39;49m])\n\u001b[1;32m     15\u001b[0m \u001b[39mprint\u001b[39m(\u001b[39mlen\u001b[39m(response_dict[\u001b[39m'\u001b[39m\u001b[39mitems\u001b[39m\u001b[39m'\u001b[39m]))\n\u001b[1;32m     16\u001b[0m \u001b[39mprint\u001b[39m(\u001b[39m'\u001b[39m\u001b[39m=\u001b[39m\u001b[39m'\u001b[39m\u001b[39m*\u001b[39m\u001b[39m50\u001b[39m)\n",
      "\u001b[0;31mKeyError\u001b[0m: 'total_count'"
     ]
    }
   ],
   "source": [
    "from datetime import datetime\n",
    "print(datetime.now())\n",
    "base_url = 'https://api.github.com/search/code?q=filename:pre-commit-config.yaml language:yaml size:1000..1005 &per_page=5&page='\n",
    "for i in range(1,11):\n",
    "    url = f'{base_url}{i}'\n",
    "    print('Start time', time.time())\n",
    "    response = requests.get(url , auth=('dzheng', GITHUB_TOKEN))\n",
    "    print(f\"Status code: {i}\", response.status_code)\n",
    "    print('\\n')\n",
    "    wait_until = response.headers['X-RateLimit-Reset']\n",
    "    print(wait_until)\n",
    "    print('\\n')\n",
    "    response_dict = response.json()\n",
    "    print(response_dict['total_count'])\n",
    "    print(len(response_dict['items']))\n",
    "    print('='*50)\n",
    "    time.sleep((int(wait_until)-time.time())+1)\n"
   ]
  },
  {
   "cell_type": "code",
   "execution_count": null,
   "metadata": {},
   "outputs": [],
   "source": []
  }
 ],
 "metadata": {
  "kernelspec": {
   "display_name": "gitfetcher",
   "language": "python",
   "name": "python3"
  },
  "language_info": {
   "codemirror_mode": {
    "name": "ipython",
    "version": 3
   },
   "file_extension": ".py",
   "mimetype": "text/x-python",
   "name": "python",
   "nbconvert_exporter": "python",
   "pygments_lexer": "ipython3",
   "version": "3.10.9"
  },
  "orig_nbformat": 4
 },
 "nbformat": 4,
 "nbformat_minor": 2
}
