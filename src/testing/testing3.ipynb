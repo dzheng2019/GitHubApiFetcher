{
 "cells": [
  {
   "cell_type": "code",
   "execution_count": 10,
   "metadata": {},
   "outputs": [
    {
     "name": "stdout",
     "output_type": "stream",
     "text": [
      "CentipedeA2\n",
      "covey.town\n",
      "Craiglist-Predictions\n",
      "Game-Simulation\n",
      "GitHubApiFetcher\n",
      "hashcat\n",
      "KaggleCraiglist\n",
      "SkipLists\n",
      "SlimeVolleyBallAI\n",
      "slimevolleygym\n",
      "webscrapper\n",
      "WebSearcher\n"
     ]
    }
   ],
   "source": [
    "from octokit import Octokit\n",
    "repos = Octokit().repos.list_for_user(username=\"dzheng2019\")\n",
    "for repo in repos.json:\n",
    "    print(repo[\"name\"])"
   ]
  },
  {
   "cell_type": "code",
   "execution_count": 16,
   "metadata": {},
   "outputs": [],
   "source": [
    "octokit = Octokit(auth = 'token', token = '')"
   ]
  },
  {
   "cell_type": "code",
   "execution_count": 17,
   "metadata": {},
   "outputs": [
    {
     "name": "stdout",
     "output_type": "stream",
     "text": [
      "CentipedeA2\n",
      "covey.town\n",
      "Craiglist-Predictions\n",
      "Game-Simulation\n",
      "GitHubApiFetcher\n",
      "hashcat\n",
      "KaggleCraiglist\n",
      "SkipLists\n",
      "SlimeVolleyBallAI\n",
      "slimevolleygym\n",
      "webscrapper\n",
      "WebSearcher\n"
     ]
    }
   ],
   "source": [
    "repos = octokit.repos.list_for_user(username=\"dzheng2019\")\n",
    "for repo in repos.json:\n",
    "    print(repo[\"name\"])"
   ]
  },
  {
   "cell_type": "code",
   "execution_count": null,
   "metadata": {},
   "outputs": [],
   "source": [
    "octokit.headersreo"
   ]
  }
 ],
 "metadata": {
  "kernelspec": {
   "display_name": "gitfetcher",
   "language": "python",
   "name": "python3"
  },
  "language_info": {
   "codemirror_mode": {
    "name": "ipython",
    "version": 3
   },
   "file_extension": ".py",
   "mimetype": "text/x-python",
   "name": "python",
   "nbconvert_exporter": "python",
   "pygments_lexer": "ipython3",
   "version": "3.10.9"
  },
  "orig_nbformat": 4
 },
 "nbformat": 4,
 "nbformat_minor": 2
}
