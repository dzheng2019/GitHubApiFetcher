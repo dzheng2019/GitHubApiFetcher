{
 "cells": [
  {
   "cell_type": "code",
   "execution_count": 1,
   "metadata": {},
   "outputs": [],
   "source": [
    "import requests\n",
    "from pprint import pprint\n",
    "import time\n",
    "GITHUB_TOKEN = \"\""
   ]
  },
  {
   "cell_type": "code",
   "execution_count": 2,
   "metadata": {},
   "outputs": [],
   "source": [
    "base_url = 'https://api.github.com/search/repositories?q=nvuillam/vscode-groovy-lint'\n"
   ]
  },
  {
   "cell_type": "code",
   "execution_count": 3,
   "metadata": {},
   "outputs": [
    {
     "name": "stdout",
     "output_type": "stream",
     "text": [
      "Status code:  200\n"
     ]
    }
   ],
   "source": [
    "response = requests.get(base_url , auth=('dzheng', GITHUB_TOKEN))\n",
    "print(f\"Status code: \", response.status_code)"
   ]
  },
  {
   "cell_type": "code",
   "execution_count": 5,
   "metadata": {},
   "outputs": [
    {
     "data": {
      "text/plain": [
       "1"
      ]
     },
     "execution_count": 5,
     "metadata": {},
     "output_type": "execute_result"
    }
   ],
   "source": [
    "len(response.json()['items'])"
   ]
  },
  {
   "cell_type": "code",
   "execution_count": 6,
   "metadata": {},
   "outputs": [
    {
     "data": {
      "text/plain": [
       "{'id': 242593236,\n",
       " 'node_id': 'MDEwOlJlcG9zaXRvcnkyNDI1OTMyMzY=',\n",
       " 'name': 'vscode-groovy-lint',\n",
       " 'full_name': 'nvuillam/vscode-groovy-lint',\n",
       " 'private': False,\n",
       " 'owner': {'login': 'nvuillam',\n",
       "  'id': 17500430,\n",
       "  'node_id': 'MDQ6VXNlcjE3NTAwNDMw',\n",
       "  'avatar_url': 'https://avatars.githubusercontent.com/u/17500430?v=4',\n",
       "  'gravatar_id': '',\n",
       "  'url': 'https://api.github.com/users/nvuillam',\n",
       "  'html_url': 'https://github.com/nvuillam',\n",
       "  'followers_url': 'https://api.github.com/users/nvuillam/followers',\n",
       "  'following_url': 'https://api.github.com/users/nvuillam/following{/other_user}',\n",
       "  'gists_url': 'https://api.github.com/users/nvuillam/gists{/gist_id}',\n",
       "  'starred_url': 'https://api.github.com/users/nvuillam/starred{/owner}{/repo}',\n",
       "  'subscriptions_url': 'https://api.github.com/users/nvuillam/subscriptions',\n",
       "  'organizations_url': 'https://api.github.com/users/nvuillam/orgs',\n",
       "  'repos_url': 'https://api.github.com/users/nvuillam/repos',\n",
       "  'events_url': 'https://api.github.com/users/nvuillam/events{/privacy}',\n",
       "  'received_events_url': 'https://api.github.com/users/nvuillam/received_events',\n",
       "  'type': 'User',\n",
       "  'site_admin': False},\n",
       " 'html_url': 'https://github.com/nvuillam/vscode-groovy-lint',\n",
       " 'description': 'VSCode extension to lint , correct and format groovy and Jenkinsfile ',\n",
       " 'fork': False,\n",
       " 'url': 'https://api.github.com/repos/nvuillam/vscode-groovy-lint',\n",
       " 'forks_url': 'https://api.github.com/repos/nvuillam/vscode-groovy-lint/forks',\n",
       " 'keys_url': 'https://api.github.com/repos/nvuillam/vscode-groovy-lint/keys{/key_id}',\n",
       " 'collaborators_url': 'https://api.github.com/repos/nvuillam/vscode-groovy-lint/collaborators{/collaborator}',\n",
       " 'teams_url': 'https://api.github.com/repos/nvuillam/vscode-groovy-lint/teams',\n",
       " 'hooks_url': 'https://api.github.com/repos/nvuillam/vscode-groovy-lint/hooks',\n",
       " 'issue_events_url': 'https://api.github.com/repos/nvuillam/vscode-groovy-lint/issues/events{/number}',\n",
       " 'events_url': 'https://api.github.com/repos/nvuillam/vscode-groovy-lint/events',\n",
       " 'assignees_url': 'https://api.github.com/repos/nvuillam/vscode-groovy-lint/assignees{/user}',\n",
       " 'branches_url': 'https://api.github.com/repos/nvuillam/vscode-groovy-lint/branches{/branch}',\n",
       " 'tags_url': 'https://api.github.com/repos/nvuillam/vscode-groovy-lint/tags',\n",
       " 'blobs_url': 'https://api.github.com/repos/nvuillam/vscode-groovy-lint/git/blobs{/sha}',\n",
       " 'git_tags_url': 'https://api.github.com/repos/nvuillam/vscode-groovy-lint/git/tags{/sha}',\n",
       " 'git_refs_url': 'https://api.github.com/repos/nvuillam/vscode-groovy-lint/git/refs{/sha}',\n",
       " 'trees_url': 'https://api.github.com/repos/nvuillam/vscode-groovy-lint/git/trees{/sha}',\n",
       " 'statuses_url': 'https://api.github.com/repos/nvuillam/vscode-groovy-lint/statuses/{sha}',\n",
       " 'languages_url': 'https://api.github.com/repos/nvuillam/vscode-groovy-lint/languages',\n",
       " 'stargazers_url': 'https://api.github.com/repos/nvuillam/vscode-groovy-lint/stargazers',\n",
       " 'contributors_url': 'https://api.github.com/repos/nvuillam/vscode-groovy-lint/contributors',\n",
       " 'subscribers_url': 'https://api.github.com/repos/nvuillam/vscode-groovy-lint/subscribers',\n",
       " 'subscription_url': 'https://api.github.com/repos/nvuillam/vscode-groovy-lint/subscription',\n",
       " 'commits_url': 'https://api.github.com/repos/nvuillam/vscode-groovy-lint/commits{/sha}',\n",
       " 'git_commits_url': 'https://api.github.com/repos/nvuillam/vscode-groovy-lint/git/commits{/sha}',\n",
       " 'comments_url': 'https://api.github.com/repos/nvuillam/vscode-groovy-lint/comments{/number}',\n",
       " 'issue_comment_url': 'https://api.github.com/repos/nvuillam/vscode-groovy-lint/issues/comments{/number}',\n",
       " 'contents_url': 'https://api.github.com/repos/nvuillam/vscode-groovy-lint/contents/{+path}',\n",
       " 'compare_url': 'https://api.github.com/repos/nvuillam/vscode-groovy-lint/compare/{base}...{head}',\n",
       " 'merges_url': 'https://api.github.com/repos/nvuillam/vscode-groovy-lint/merges',\n",
       " 'archive_url': 'https://api.github.com/repos/nvuillam/vscode-groovy-lint/{archive_format}{/ref}',\n",
       " 'downloads_url': 'https://api.github.com/repos/nvuillam/vscode-groovy-lint/downloads',\n",
       " 'issues_url': 'https://api.github.com/repos/nvuillam/vscode-groovy-lint/issues{/number}',\n",
       " 'pulls_url': 'https://api.github.com/repos/nvuillam/vscode-groovy-lint/pulls{/number}',\n",
       " 'milestones_url': 'https://api.github.com/repos/nvuillam/vscode-groovy-lint/milestones{/number}',\n",
       " 'notifications_url': 'https://api.github.com/repos/nvuillam/vscode-groovy-lint/notifications{?since,all,participating}',\n",
       " 'labels_url': 'https://api.github.com/repos/nvuillam/vscode-groovy-lint/labels{/name}',\n",
       " 'releases_url': 'https://api.github.com/repos/nvuillam/vscode-groovy-lint/releases{/id}',\n",
       " 'deployments_url': 'https://api.github.com/repos/nvuillam/vscode-groovy-lint/deployments',\n",
       " 'created_at': '2020-02-23T21:26:08Z',\n",
       " 'updated_at': '2023-03-16T14:29:34Z',\n",
       " 'pushed_at': '2023-01-05T17:15:36Z',\n",
       " 'git_url': 'git://github.com/nvuillam/vscode-groovy-lint.git',\n",
       " 'ssh_url': 'git@github.com:nvuillam/vscode-groovy-lint.git',\n",
       " 'clone_url': 'https://github.com/nvuillam/vscode-groovy-lint.git',\n",
       " 'svn_url': 'https://github.com/nvuillam/vscode-groovy-lint',\n",
       " 'homepage': 'https://nvuillam.github.io/vscode-groovy-lint/',\n",
       " 'size': 19849,\n",
       " 'stargazers_count': 56,\n",
       " 'watchers_count': 56,\n",
       " 'language': 'TypeScript',\n",
       " 'has_issues': True,\n",
       " 'has_projects': False,\n",
       " 'has_downloads': True,\n",
       " 'has_wiki': False,\n",
       " 'has_pages': True,\n",
       " 'has_discussions': False,\n",
       " 'forks_count': 11,\n",
       " 'mirror_url': None,\n",
       " 'archived': False,\n",
       " 'disabled': False,\n",
       " 'open_issues_count': 32,\n",
       " 'license': {'key': 'gpl-3.0',\n",
       "  'name': 'GNU General Public License v3.0',\n",
       "  'spdx_id': 'GPL-3.0',\n",
       "  'url': 'https://api.github.com/licenses/gpl-3.0',\n",
       "  'node_id': 'MDc6TGljZW5zZTk='},\n",
       " 'allow_forking': True,\n",
       " 'is_template': False,\n",
       " 'web_commit_signoff_required': False,\n",
       " 'topics': ['code-quality-analyzer',\n",
       "  'codenarc',\n",
       "  'gradle',\n",
       "  'groovy',\n",
       "  'groovy-language',\n",
       "  'jenkinsfile',\n",
       "  'linter',\n",
       "  'nextflow',\n",
       "  'vscode',\n",
       "  'vscode-extension'],\n",
       " 'visibility': 'public',\n",
       " 'forks': 11,\n",
       " 'open_issues': 32,\n",
       " 'watchers': 56,\n",
       " 'default_branch': 'master',\n",
       " 'permissions': {'admin': False,\n",
       "  'maintain': False,\n",
       "  'push': False,\n",
       "  'triage': False,\n",
       "  'pull': True},\n",
       " 'score': 1.0}"
      ]
     },
     "execution_count": 6,
     "metadata": {},
     "output_type": "execute_result"
    }
   ],
   "source": [
    "response.json()['items'][0]"
   ]
  },
  {
   "cell_type": "code",
   "execution_count": null,
   "metadata": {},
   "outputs": [],
   "source": []
  }
 ],
 "metadata": {
  "kernelspec": {
   "display_name": "gitfetcher",
   "language": "python",
   "name": "python3"
  },
  "language_info": {
   "codemirror_mode": {
    "name": "ipython",
    "version": 3
   },
   "file_extension": ".py",
   "mimetype": "text/x-python",
   "name": "python",
   "nbconvert_exporter": "python",
   "pygments_lexer": "ipython3",
   "version": "3.10.9"
  },
  "orig_nbformat": 4
 },
 "nbformat": 4,
 "nbformat_minor": 2
}
